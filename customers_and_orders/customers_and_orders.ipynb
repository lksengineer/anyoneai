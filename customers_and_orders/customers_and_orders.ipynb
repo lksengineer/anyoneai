{
  "cells": [
    {
      "cell_type": "markdown",
      "metadata": {
        "id": "piiX_CRNFYUi"
      },
      "source": [
        "# Technical Challenge ! Custiomers and Orders - The lifeblood of any business!\n",
        "\n",
        "This notebook depends on two data files: customers.scv and orders.csv. These files are hosted in the cloud (or Github), so for simplicity, we are providing you with the code to download and save the two files in a folder called 'sample_data' which lives within this notebook session (not on your local computer nor Google Drive).\n",
        "\n",
        "![sample_data folder in notebook session](https://raw.githubusercontent.com/anyoneai/notebooks/main/customers_and_orders/images/sample_data_folder.png)\n",
        "\n",
        "Please execute the first code snippet before moving to the rest of the exercise as this code will import the data from the files for you to be able to execute the rest of the exercise.\n",
        "\n",
        "Remember as we said in the previous lecture, you have to save this notebook into your Google Drive by going to menu File/Save a Copy In Drive, or clicking in the button \"Copy to Drive\". This way, you will not lose any work you've done and the file will persist with your latest changes in your Google Drive. Also we recommend you to rename your .ipynb in your Google Drive, so you can easily find it in the future."
      ]
    },
    {
      "cell_type": "code",
      "execution_count": 1,
      "metadata": {
        "colab": {
          "base_uri": "https://localhost:8080/"
        },
        "id": "MWpVO242FQHC",
        "outputId": "c477e308-bb06-44c0-db52-fa25353a5522"
      },
      "outputs": [
        {
          "output_type": "stream",
          "name": "stdout",
          "text": [
            "Customers and orders CSV files have been added './sample_data'\n"
          ]
        }
      ],
      "source": [
        "import requests\n",
        "\n",
        "def import_data_files():\n",
        "  r = requests.get('https://raw.githubusercontent.com/anyoneai/notebooks/main/customers_and_orders/data/customers.csv')\n",
        "  with open('./sample_data/customers.csv', 'wb') as f:\n",
        "    f.write(r.content)\n",
        "\n",
        "  r = requests.get('https://raw.githubusercontent.com/anyoneai/notebooks/main/customers_and_orders/data/orders.csv')\n",
        "  with open('./sample_data/orders.csv', 'wb') as f:\n",
        "    f.write(r.content)\n",
        "\n",
        "import_data_files()\n",
        "print(\"Customers and orders CSV files have been added './sample_data'\")"
      ]
    },
    {
      "cell_type": "markdown",
      "metadata": {
        "id": "JQAduY-RWKyB"
      },
      "source": [
        "# Exercise 1: Processing Customers data (difficulty medium)\n",
        "\n",
        "The sample customer data in 'customers.csv' file has just 5 columns: CustomerId, First Name, Last Name, City and State\n",
        "\n",
        "![Data sample](https://raw.githubusercontent.com/anyoneai/notebooks/main/customers_and_orders/images/customers.png)\n",
        "\n",
        "We strongly recommend that you complete from the [Prep Course: Intro to Python](https://colab.research.google.com/github/anyoneai/notebooks/blob/main/python3_crash_course.ipynb) the following section:\n",
        "- Section 7: File I/O (to understand how to read CSV file)\n",
        "- Section 6: For Loop (to navigate the contents of the CSV file)\n",
        "- Section 5: Tuples, Lists, and Dictionaries (to manipulate the data of the CSV file)\n",
        "\n",
        "With this, we hope you can complete this exercise successfully. Although if you want to solve this with libraries or any other way, you are welcome to do it your way.\n",
        "\n",
        "*Hint:* We advise you to take a look at the data before you start.\n",
        "**if you want to manually take a look at the data before you start, please see the content of the data [here](https://github.com/anyoneai/notebooks/blob/main/customers_and_orders/data/customers.csv).\n",
        "\n",
        "*Hint*: There are many ways to do this exercise you can do your own, although here's some help. You can solve this exercise reading and parsing CSV files, structuring data into dictionaries, and using for loops to navigate the contents\n",
        "\n",
        "*Hint*: Also, keep in mind that data might not be clean and you might have to figure out how to deal with that data from the code, without having to modify the data source.\n",
        "\n",
        "Below are the 5 questions you'll have to answer to pass the evaluation:"
      ]
    },
    {
      "cell_type": "markdown",
      "metadata": {
        "id": "kJq7S8sBfbOW"
      },
      "source": [
        "**Question 1:** How many customers are in the file?\n",
        "(as help, we have added some comments and starter code to help you structure the solution)"
      ]
    },
    {
      "cell_type": "code",
      "execution_count": 2,
      "metadata": {
        "colab": {
          "base_uri": "https://localhost:8080/"
        },
        "id": "oMnUFBFb2RUb",
        "outputId": "130eec18-919e-4c55-fae8-33a33b54d20c"
      },
      "outputs": [
        {
          "output_type": "stream",
          "name": "stdout",
          "text": [
            "Customers in the file: 602\n",
            "All done!\n"
          ]
        }
      ],
      "source": [
        "\"\"\"Module Question 1: How many customers are in the file? (as help, we have added some comments and starter code to help you structure the solution)\"\"\"\n",
        "\n",
        "from os.path import exists\n",
        "import csv\n",
        "\n",
        "# check if file can be found and open the file\n",
        "datafile = \"./sample_data/customers.csv\"\n",
        "if not exists(datafile):\n",
        "    raise SystemExit(\n",
        "        \"You should run the first code cell and download the dataset files!\"\n",
        "    )\n",
        "\n",
        "# customers file is in the sample_data folder and can be opened.\n",
        "# Using csv reader is one way of dealing with the file\n",
        "# but it's up to you how you want to proceed\n",
        "with open(datafile, \"r\", encoding=\"utf-8\") as fl:\n",
        "    csvreader = csv.reader(fl, delimiter=\",\")\n",
        "    count_loop = 0\n",
        "    for csv in csvreader:\n",
        "        count_loop += 1\n",
        "    print(f\"Customers in the file: {count_loop - 1}\")\n",
        "    # loop through the rows and count etc. THE REST IS UP TO YOU!\n",
        "\n",
        "\n",
        "print(\"All done!\")\n"
      ]
    },
    {
      "cell_type": "markdown",
      "metadata": {
        "id": "uffBnNgz_570"
      },
      "source": [
        "**Question 2:** In how many different states do the customers live in?"
      ]
    },
    {
      "cell_type": "code",
      "execution_count": 4,
      "metadata": {
        "id": "Bi_yid0sMe3-",
        "outputId": "85d47cfc-fbbe-4229-97bd-352fb3c06f30",
        "colab": {
          "base_uri": "https://localhost:8080/"
        }
      },
      "outputs": [
        {
          "output_type": "stream",
          "name": "stdout",
          "text": [
            "States the customers live in: ['CA', 'AZ', 'NV', 'FL', 'WA', 'NH', 'ID', 'CO', 'TX', 'NM', 'OR', 'UT', 'MA', 'IN']\n",
            "States the customers live in: 14\n",
            "All done!\n"
          ]
        }
      ],
      "source": [
        "# open file and init vars\n",
        "# evaluate the contents of the file\n",
        "\"\"\"Module Question 2: In how many different states do the customers live in?\"\"\"\n",
        "\n",
        "\n",
        "from os.path import exists\n",
        "import csv\n",
        "\n",
        "# check if file can be found and open the file\n",
        "datafile = \"./sample_data/customers.csv\"\n",
        "if not exists(datafile):\n",
        "    raise SystemExit(\n",
        "        \"You should run the first code cell and download the dataset files!\"\n",
        "    )\n",
        "\n",
        "# customers file is in the sample_data folder and can be opened.\n",
        "# Using csv reader is one way of dealing with the file\n",
        "# but it's up to you how you want to proceed\n",
        "with open(datafile, \"r\", encoding=\"utf-8\") as fl:\n",
        "    csvreader = csv.reader(fl, delimiter=\",\")\n",
        "    states = []\n",
        "    for csv in csvreader:\n",
        "        csv[-1] = csv[-1].strip()\n",
        "        csv[-1] = csv[-1].upper()\n",
        "\n",
        "        if csv[-1] not in states and csv[-1] != \"STATE\":\n",
        "            states.append(csv[-1])\n",
        "    print(f\"States the customers live in: {states}\")\n",
        "    print(f\"States the customers live in: {len(states)}\")\n",
        "    # loop through the rows and count etc. THE REST IS UP TO YOU!\n",
        "\n",
        "\n",
        "print(\"All done!\")\n",
        "#437"
      ]
    },
    {
      "cell_type": "markdown",
      "metadata": {
        "id": "DC59SZYiMfNY"
      },
      "source": [
        "**Question 3** What is the state with most customers?"
      ]
    },
    {
      "cell_type": "code",
      "execution_count": 9,
      "metadata": {
        "id": "tfGU3w-OMhA9",
        "outputId": "aedb68c5-2fb1-4a5a-e8ca-8e7c6f09a8e0",
        "colab": {
          "base_uri": "https://localhost:8080/"
        }
      },
      "outputs": [
        {
          "output_type": "stream",
          "name": "stdout",
          "text": [
            "States with customers: {'CA': 569, 'AZ': 6, 'NV': 8, 'FL': 3, 'WA': 1, 'NH': 1, 'ID': 1, 'CO': 3, 'TX': 2, 'NM': 3, 'OR': 1, 'UT': 2, 'MA': 1, 'IN': 1}\n",
            "The States with most customers: 569\n",
            "States the customers live in: 14\n",
            "State with most customers: CA has 569 customers\n",
            "The state with the most customers is: CA with 569 customers\n",
            "All done!\n"
          ]
        }
      ],
      "source": [
        "# open file and init vars\n",
        "# evaluate the contents of the file\n",
        "\"\"\"Module Question 3 What is the state with most customers?\"\"\"\n",
        "\n",
        "from os.path import exists\n",
        "import csv\n",
        "\n",
        "# check if file can be found and open the file\n",
        "datafile = \"./sample_data/customers.csv\"\n",
        "if not exists(datafile):\n",
        "    raise SystemExit(\n",
        "        \"You should run the first code cell and download the dataset files!\"\n",
        "    )\n",
        "\n",
        "# customers file is in the sample_data folder and can be opened.\n",
        "# Using csv reader is one way of dealing with the file\n",
        "# but it's up to you how you want to proceed\n",
        "with open(datafile, \"r\", encoding=\"utf-8\") as fl:\n",
        "    csvreader = csv.reader(fl, delimiter=\",\")\n",
        "    customers = {}\n",
        "    for csv in csvreader:\n",
        "        csv[-1] = csv[-1].strip()\n",
        "        csv[-1] = csv[-1].upper()\n",
        "\n",
        "        if csv[-1] not in customers:\n",
        "            customers[csv[-1]] = 1\n",
        "        else:\n",
        "            customers[csv[-1]] += 1\n",
        "\n",
        "    del customers[\"STATE\"]\n",
        "    print(f\"States with customers: {customers}\")\n",
        "    print(f\"The States with most customers: {max(customers.values())}\")\n",
        "    print(f\"States the customers live in: {len(customers)}\")\n",
        "\n",
        "    max_customers = max(customers.values())\n",
        "    for kye, value in customers.items():\n",
        "        if max_customers == value:\n",
        "            print(f\"State with most customers: {kye} has {value} customers\")\n",
        "            break\n",
        "\n",
        "\n",
        "    # Find the state with the maximum number of customers way avanzada\n",
        "    state_with_most_customers = max(customers, key=customers.get)\n",
        "    print(f\"The state with the most customers is: {state_with_most_customers} with {customers[state_with_most_customers]} customers\")\n",
        "\n",
        "print(\"All done!\")\n"
      ]
    },
    {
      "cell_type": "markdown",
      "metadata": {
        "id": "7mcM6cUAMhLB"
      },
      "source": [
        "**Question 4** What is the state with the least customers?"
      ]
    },
    {
      "cell_type": "code",
      "execution_count": 10,
      "metadata": {
        "id": "8T0Ka2RqMi3P",
        "outputId": "8a2d2818-7824-4d83-b8cb-d6bec57c6562",
        "colab": {
          "base_uri": "https://localhost:8080/"
        }
      },
      "outputs": [
        {
          "output_type": "stream",
          "name": "stdout",
          "text": [
            "States with customers: {'CA': 569, 'AZ': 6, 'NV': 8, 'FL': 3, 'WA': 1, 'NH': 1, 'ID': 1, 'CO': 3, 'TX': 2, 'NM': 3, 'OR': 1, 'UT': 2, 'MA': 1, 'IN': 1}\n",
            "States the customers live in: 14\n",
            "The States with least customers: WA has 1 customers\n",
            "The States with least customers: NH has 1 customers\n",
            "The States with least customers: ID has 1 customers\n",
            "The States with least customers: OR has 1 customers\n",
            "The States with least customers: MA has 1 customers\n",
            "The States with least customers: IN has 1 customers\n",
            "All done!\n"
          ]
        }
      ],
      "source": [
        "# open file and init vars\n",
        "# evaluate the contents of the file\n",
        "\"\"\"Module Question 4 What is the state with the least customers?\"\"\"\n",
        "\n",
        "from os.path import exists\n",
        "import csv\n",
        "\n",
        "# check if file can be found and open the file\n",
        "datafile = \"./sample_data/customers.csv\"\n",
        "if not exists(datafile):\n",
        "    raise SystemExit(\n",
        "        \"You should run the first code cell and download the dataset files!\"\n",
        "    )\n",
        "\n",
        "# customers file is in the sample_data folder and can be opened.\n",
        "# Using csv reader is one way of dealing with the file\n",
        "# but it's up to you how you want to proceed\n",
        "with open(datafile, \"r\", encoding=\"utf-8\") as fl:\n",
        "    csvreader = csv.reader(fl, delimiter=\",\")\n",
        "    customers = {}\n",
        "    for csv in csvreader:\n",
        "        csv[-1] = csv[-1].strip()\n",
        "        csv[-1] = csv[-1].upper()\n",
        "\n",
        "        if csv[-1] not in customers:\n",
        "            customers[csv[-1]] = 1\n",
        "        else:\n",
        "            customers[csv[-1]] += 1\n",
        "\n",
        "    del customers[\"STATE\"]\n",
        "    print(f\"States with customers: {customers}\")\n",
        "    print(f\"States the customers live in: {len(customers)}\")\n",
        "\n",
        "    min_customers = min(customers.values())\n",
        "    for kye, value in customers.items():\n",
        "        if min_customers == value:\n",
        "            print(f\"The States with least customers: {kye} has {value} customers\")\n",
        "\n",
        "print(\"All done!\")\n"
      ]
    },
    {
      "cell_type": "markdown",
      "metadata": {
        "id": "h6fIy7hXHF6A"
      },
      "source": [
        "**Question 5:** What is the most common last name?"
      ]
    },
    {
      "cell_type": "code",
      "execution_count": 12,
      "metadata": {
        "id": "k8M1DmA75Km7",
        "outputId": "032890ef-8d31-4833-879c-a2f9c9976557",
        "colab": {
          "base_uri": "https://localhost:8080/"
        }
      },
      "outputs": [
        {
          "output_type": "stream",
          "name": "stdout",
          "text": [
            "The most common last name : SMITH has 8\n",
            "All done!\n"
          ]
        }
      ],
      "source": [
        "# open file and init vars\n",
        "# evaluate the contents of the file\n",
        "\"\"\"Module Question 5: What is the most common last name?\"\"\"\n",
        "\n",
        "from os.path import exists\n",
        "import csv\n",
        "\n",
        "# check if file can be found and open the file\n",
        "datafile = \"./sample_data/customers.csv\"\n",
        "if not exists(datafile):\n",
        "    raise SystemExit(\n",
        "        \"You should run the first code cell and download the dataset files!\"\n",
        "    )\n",
        "\n",
        "# customers file is in the sample_data folder and can be opened.\n",
        "# Using csv reader is one way of dealing with the file\n",
        "# but it's up to you how you want to proceed\n",
        "with open(datafile, \"r\", encoding=\"utf-8\") as fl:\n",
        "    csvreader = csv.reader(fl, delimiter=\",\")\n",
        "    common_last_name = {}\n",
        "    for csv in csvreader:\n",
        "        csv[2] = csv[2].strip()\n",
        "        csv[2] = csv[2].upper()\n",
        "\n",
        "        if csv[2] not in common_last_name and csv[2]:\n",
        "            common_last_name[csv[2]] = 1\n",
        "        else:\n",
        "            common_last_name[csv[2]] += 1\n",
        "\n",
        "    del common_last_name[\"LASTNAME\"]\n",
        "\n",
        "    most_common = max(common_last_name.values())\n",
        "    for kye, value in common_last_name.items():\n",
        "        if most_common == value:\n",
        "            print(f\"The most common last name : {kye} has {value}\")\n",
        "\n",
        "print(\"All done!\")\n"
      ]
    },
    {
      "cell_type": "markdown",
      "metadata": {
        "id": "YPRma1t9NoFk"
      },
      "source": [
        "# Exercise 2: Processing Orders data (difficulty high)\n",
        "\n",
        "The second sample files contains orders placed by customers from the first file. Be careful, this file has many rows and you most likely should not print the contents of the whole file.\n",
        "\n",
        "The file contains the following columns: CustomerID, OrderID, Date, OrderTotal, ProductName, Price\n",
        "\n",
        "![Data sample](https://raw.githubusercontent.com/anyoneai/notebooks/main/customers_and_orders/images/orders.png)\n",
        "\n",
        "*Hint:* We advise you to take a look at the data before you start.\n",
        "**if you want to manually take a look at the data before you start, please see the content of the data [here](https://raw.githubusercontent.com/anyoneai/notebooks/main/customers_and_orders/data/orders.csv).\n",
        "\n",
        "*Hint*: There are many ways to do this exercise you can do your own, although here's some help. You can solve this exercise reading and parsing CSV files, structuring data into dictionaries, and using for loops to navigate the contents\n",
        "\n",
        "*Hint*: Also, the data is not clean and you will have to figure out how to deal with that data from the code, without having to modify the data source.\n",
        "\n",
        "\n",
        "\n",
        "**Question #1:** How many unique orders are in the orders.csv file?\n",
        "\n",
        "**Question #2:** What is the average number of items per order (rounded to two decimal places)?\n",
        "\n",
        "**Question #3:** What is the highest number of items per order?\n",
        "\n",
        "**Question #4:** What is the number of orders placed in October 2021?\n",
        "\n",
        "**Question #5:** Which customer spent the most amount of money in 2021?\n",
        "\n",
        "**Question #6:** Historically, what is the best month for sales?\n",
        "\n",
        "Once you get your answers, remember to go back to the course and introduce them in the multiple choice quiz"
      ]
    },
    {
      "cell_type": "code",
      "execution_count": null,
      "metadata": {
        "id": "8ipJTrfs5QVM"
      },
      "outputs": [],
      "source": [
        "# open and evaluate orders.csv"
      ]
    },
    {
      "cell_type": "markdown",
      "source": [
        "Exercise 2: Processing Orders data (difficulty high)\n",
        "Question #1: How many unique orders are in the orders.csv file?"
      ],
      "metadata": {
        "id": "KhDEXLkOxDRw"
      }
    },
    {
      "cell_type": "code",
      "source": [
        "\"\"\"Module Exercise 2: Processing Orders data (difficulty high)\"\"\"\n",
        "\n",
        "from os.path import exists\n",
        "import csv\n",
        "\n",
        "# check if file can be found and open the file\n",
        "datafile = \"./sample_data/orders.csv\"\n",
        "if not exists(datafile):\n",
        "    raise SystemExit(\n",
        "        \"You should run the first code cell and download the dataset files!\"\n",
        "    )\n",
        "\n",
        "# customers file is in the sample_data folder and can be opened.\n",
        "# Using csv reader is one way of dealing with the file\n",
        "# but it's up to you how you want to proceed\n",
        "\n",
        "# 1. unique orders\n",
        "with open(datafile, \"r\", encoding=\"utf-8\") as fl:\n",
        "    csvreader = csv.reader(fl, delimiter=\",\")\n",
        "    list_orders = []\n",
        "\n",
        "    for csv in csvreader:\n",
        "        if csv[1] not in list_orders:\n",
        "            list_orders.append(csv[1])\n",
        "\n",
        "    print(f\"1. unique orders: {len(list_orders) - 1}\")\n",
        "\n",
        "print(\"All done!\")\n"
      ],
      "metadata": {
        "id": "xkZOxx8cw1Kq",
        "outputId": "10778aca-e007-4f62-a5d8-b44facf1a0c8",
        "colab": {
          "base_uri": "https://localhost:8080/"
        }
      },
      "execution_count": 19,
      "outputs": [
        {
          "output_type": "stream",
          "name": "stdout",
          "text": [
            "1. unique orders: 16672\n",
            "All done!\n"
          ]
        }
      ]
    },
    {
      "cell_type": "markdown",
      "source": [
        "Question #2: What is the average number of items per order (rounded to two decimal places)?"
      ],
      "metadata": {
        "id": "WFT4e06JxXym"
      }
    },
    {
      "cell_type": "code",
      "source": [
        "\"\"\"Module Question #2: What is the average number of items per order (rounded to two decimal places)?\"\"\"\n",
        "\n",
        "from os.path import exists\n",
        "import csv\n",
        "\n",
        "datafile = \"./sample_data/orders.csv\"\n",
        "if not exists(datafile):\n",
        "    raise SystemExit(\n",
        "        \"You should run the first code cell and download the dataset files!\"\n",
        "    )\n",
        "\n",
        "with open(datafile, \"r\", encoding=\"utf-8\") as fl:\n",
        "    csvreader = csv.reader(fl, delimiter=\",\")\n",
        "    next(csvreader)\n",
        "\n",
        "    orders = {}\n",
        "\n",
        "    for csv in csvreader:\n",
        "        order_id = csv[1]\n",
        "        product_name = csv[4]\n",
        "\n",
        "        if order_id not in orders:\n",
        "            orders[order_id] = []\n",
        "\n",
        "        orders[order_id].append(product_name)\n",
        "\n",
        "\n",
        "    total_articulos = 0\n",
        "    total_pedidos = len(orders)\n",
        "\n",
        "    for key in orders.keys():\n",
        "        total_articulos += len(orders[key])\n",
        "\n",
        "\n",
        "promedio_articulos = round(total_articulos / total_pedidos, 2)\n",
        "print(f\"El número promedio de artículos por pedido es: {promedio_articulos}\")\n"
      ],
      "metadata": {
        "id": "skUAuSG8xeic",
        "outputId": "58a2c728-4108-4e61-83c5-2619a19aba28",
        "colab": {
          "base_uri": "https://localhost:8080/"
        }
      },
      "execution_count": 16,
      "outputs": [
        {
          "output_type": "stream",
          "name": "stdout",
          "text": [
            "El número promedio de artículos por pedido es: 1.76\n"
          ]
        }
      ]
    },
    {
      "cell_type": "markdown",
      "source": [
        "Question #3: What is the highest number of items per order?"
      ],
      "metadata": {
        "id": "X7mIlRQuxq-J"
      }
    },
    {
      "cell_type": "code",
      "source": [
        "\"\"\"Module Question 3. What is the highest number of items per order?\"\"\"\n",
        "\n",
        "\n",
        "from os.path import exists\n",
        "import csv\n",
        "\n",
        "datafile = \"./sample_data/orders.csv\"\n",
        "if not exists(datafile):\n",
        "    raise SystemExit(\n",
        "        \"You should run the first code cell and download the dataset files!\"\n",
        "    )\n",
        "\n",
        "with open(datafile, \"r\", encoding=\"utf-8\") as fl:\n",
        "    csvreader = csv.reader(fl, delimiter=\",\")\n",
        "    next(csvreader)\n",
        "\n",
        "    orders = {}\n",
        "\n",
        "    for csv in csvreader:\n",
        "        order_id = csv[1]\n",
        "        product_name = csv[4]\n",
        "\n",
        "        if order_id not in orders:\n",
        "            orders[order_id] = []\n",
        "\n",
        "        orders[order_id].append(product_name)\n",
        "\n",
        "\n",
        "    total_articulos = 0\n",
        "    total_pedidos = len(orders)\n",
        "\n",
        "    for key in orders:\n",
        "        if len(orders[key]) > total_articulos:\n",
        "            total_articulos = len(orders[key])\n",
        "\n",
        "highest_number_of_items = total_articulos\n",
        "print(f\"the highest number of items per order: {highest_number_of_items}\")\n",
        "\n",
        "print(\"All done!\")\n"
      ],
      "metadata": {
        "id": "gxz2AjxExnf_",
        "outputId": "7ea772b4-84ec-45fa-c070-82ca8a8bbbb9",
        "colab": {
          "base_uri": "https://localhost:8080/"
        }
      },
      "execution_count": 15,
      "outputs": [
        {
          "output_type": "stream",
          "name": "stdout",
          "text": [
            "the highest number of items per order: 35\n",
            "All done!\n"
          ]
        }
      ]
    },
    {
      "cell_type": "markdown",
      "source": [
        "Question #4: What is the number of orders placed in October 2021?"
      ],
      "metadata": {
        "id": "6pl0Gicdx9T4"
      }
    },
    {
      "cell_type": "code",
      "source": [
        "\"\"\"Module Question #4: What is the number of orders placed in October 2021?\"\"\"\n",
        "\n",
        "\n",
        "from os.path import exists\n",
        "\n",
        "# Imports\n",
        "import csv\n",
        "import datetime\n",
        "\n",
        "\n",
        "datafile = \"./sample_data/orders.csv\"\n",
        "if not exists(datafile):\n",
        "    raise SystemExit(\n",
        "        \"You should run the first code cell and download the dataset files!\"\n",
        "    )\n",
        "\n",
        "with open(datafile, \"r\", encoding=\"utf-8\") as fl:\n",
        "    csvreader = csv.reader(fl, delimiter=\",\")\n",
        "    next(csvreader)\n",
        "    list_of_orders = []\n",
        "\n",
        "    for csv in csvreader:\n",
        "        order_id = csv[1]\n",
        "        date = csv[2]\n",
        "\n",
        "        if date and order_id:\n",
        "            order_date = datetime.datetime.strptime(date, \"%Y-%m-%d %H:%M:%S.%f\")\n",
        "\n",
        "            if order_date.year == 2021 and order_date.month == 10 and order_id not in list_of_orders:\n",
        "                list_of_orders.append(order_id)\n",
        "                # print(f\"Order ID: {order_id} - Date: {order_date}\")\n",
        "\n",
        "    print(f\"Number of orders placed in October 2021: {len(list_of_orders)}\")\n",
        "\n",
        "print(\"All done!\")\n"
      ],
      "metadata": {
        "id": "_ZuiUKB7x7K-",
        "outputId": "a208bcb5-8158-4e85-dd39-36e65a5aa7a0",
        "colab": {
          "base_uri": "https://localhost:8080/"
        }
      },
      "execution_count": 17,
      "outputs": [
        {
          "output_type": "stream",
          "name": "stdout",
          "text": [
            "Number of orders placed in October 2021: 267\n",
            "All done!\n"
          ]
        }
      ]
    },
    {
      "cell_type": "markdown",
      "source": [
        "Question #5: Which customer spent the most amount of money in 2021?"
      ],
      "metadata": {
        "id": "AXk7fT2pyWSA"
      }
    },
    {
      "cell_type": "code",
      "source": [
        "\"\"\"Module Question #5: Which customer spent the most amount of money in 2021\"\"\"\n",
        "\n",
        "\n",
        "from os.path import exists\n",
        "\n",
        "# Imports\n",
        "import csv\n",
        "import datetime\n",
        "\n",
        "\n",
        "datafile = \"./sample_data/orders.csv\"\n",
        "if not exists(datafile):\n",
        "    raise SystemExit(\n",
        "        \"You should run the first code cell and download the dataset files!\"\n",
        "    )\n",
        "\n",
        "\n",
        "with open(datafile, \"r\", encoding=\"utf-8\") as fl:\n",
        "    csvreader = csv.reader(fl, delimiter=\",\")\n",
        "    next(csvreader)\n",
        "    customer_spent = {}\n",
        "    customer_spent_win = {}\n",
        "\n",
        "    count = 0\n",
        "    for csv in csvreader:\n",
        "        customer_id = csv[0]\n",
        "        order_id = csv[1]\n",
        "        date = csv[2]\n",
        "        order_total = float(csv[3])\n",
        "        product_name = csv[4]\n",
        "        product_price = float(csv[5])\n",
        "\n",
        "        if date and order_total > 0 and product_name and product_price > 0:\n",
        "            order_date = datetime.datetime.strptime(date, \"%Y-%m-%d %H:%M:%S.%f\")\n",
        "\n",
        "            if order_date.year == 2021:\n",
        "                if customer_id not in customer_spent:\n",
        "                    customer_spent[customer_id] = {order_id: [[order_total, product_name, product_price]]}\n",
        "                    customer_spent_win[customer_id] = product_price\n",
        "                    # print(f\"customer_spent: {customer_spent}\")\n",
        "                    # print(f\"customer_spent_win: {customer_spent_win}\")\n",
        "                    # count += 1\n",
        "                    # if count == 3:\n",
        "                    #     break\n",
        "\n",
        "                elif order_id not in customer_spent[customer_id]:\n",
        "                    customer_spent[customer_id][order_id] = [[order_total, product_name, product_price]]\n",
        "                    customer_spent_win[customer_id] += product_price\n",
        "\n",
        "                elif product_name in customer_spent[customer_id][order_id]:\n",
        "                    customer_spent[customer_id][order_id].append([order_total, product_name, product_price])\n",
        "                    customer_spent_win[customer_id] += product_price\n",
        "\n",
        "                # Hasta aqui quedaba: 5172443: 7675\n",
        "                else:\n",
        "                    customer_spent[customer_id][order_id].append([order_total, product_name, product_price])\n",
        "                    customer_spent_win[customer_id] += product_price\n",
        "\n",
        "                # else:\n",
        "                #     for key, value in customer_spent.items():\n",
        "                #         print(f\"key: {key}: {value}\")\n",
        "                #         # for values in key:\n",
        "                #         #     print(f\"values: {values}\")\n",
        "\n",
        "\n",
        "max_customer_spent = max(customer_spent_win, key=customer_spent_win.get)\n",
        "max_spent = max(customer_spent_win.values())\n",
        "print(f\"CutomerId: {max_customer_spent} has spent {max_spent}\")\n",
        "\n",
        "\n",
        "print(\"All done!\")\n"
      ],
      "metadata": {
        "id": "z6rL4X9Dy-0_",
        "outputId": "d876df8d-3c13-4833-d18b-2c71f5bdeac4",
        "colab": {
          "base_uri": "https://localhost:8080/"
        }
      },
      "execution_count": 20,
      "outputs": [
        {
          "output_type": "stream",
          "name": "stdout",
          "text": [
            "CutomerId: 5172443 has spent 7675.0\n",
            "All done!\n"
          ]
        }
      ]
    },
    {
      "cell_type": "markdown",
      "source": [
        "Question #6: Historically, what is the best month for sales?"
      ],
      "metadata": {
        "id": "4I8YKVKQzFY1"
      }
    },
    {
      "cell_type": "code",
      "source": [
        "\"\"\"Module Question #6: Historically, what is the best month for sales?\"\"\"\n",
        "\n",
        "\n",
        "from os.path import exists\n",
        "\n",
        "# Imports\n",
        "import csv\n",
        "import datetime\n",
        "\n",
        "\n",
        "datafile = \"./sample_data/orders.csv\"\n",
        "if not exists(datafile):\n",
        "    raise SystemExit(\n",
        "        \"You should run the first code cell and download the dataset files!\"\n",
        "    )\n",
        "\n",
        "\n",
        "with open(datafile, \"r\", encoding=\"utf-8\") as fl:\n",
        "    csvreader = csv.reader(fl, delimiter=\",\")\n",
        "    next(csvreader)\n",
        "    best_month = {}\n",
        "\n",
        "    count = 0\n",
        "    for csv in csvreader:\n",
        "        date = csv[2]\n",
        "        order_total = float(csv[3])\n",
        "        product_name = csv[4]\n",
        "        product_price = float(csv[5])\n",
        "\n",
        "        if date and order_total > 0 and product_name and product_price > 0:\n",
        "            order_date = datetime.datetime.strptime(date, \"%Y-%m-%d %H:%M:%S.%f\")\n",
        "            month_date = order_date.strftime(\"%B\")\n",
        "\n",
        "            if month_date not in best_month:\n",
        "                best_month[month_date] = order_total\n",
        "                # print(f\"best_month: {best_month}\")\n",
        "\n",
        "            else:\n",
        "                best_month[month_date] += order_total\n",
        "                # print(f\"best_month abajo: {best_month}\")\n",
        "                # count += 1\n",
        "                # if count == 2:\n",
        "                #     break\n",
        "\n",
        "    print(f\"Best month for sale: {max(best_month, key=best_month.get)}\")\n",
        "\n",
        ""
      ],
      "metadata": {
        "id": "KuXZgruCzIDy",
        "outputId": "0b1583ff-a70f-4a4c-8814-7eb59eeb946a",
        "colab": {
          "base_uri": "https://localhost:8080/"
        }
      },
      "execution_count": 23,
      "outputs": [
        {
          "output_type": "stream",
          "name": "stdout",
          "text": [
            "Best month for sale: January\n"
          ]
        }
      ]
    },
    {
      "cell_type": "markdown",
      "metadata": {
        "id": "ie0JW4FAk6Os"
      },
      "source": [
        "# Finished!\n",
        "\n",
        "Hope this was not too difficult and slicing and dicing the datasets was some fun. Now head on back to the course and provide the answers to the questions from this exercise."
      ]
    }
  ],
  "metadata": {
    "colab": {
      "name": "customers_and_orders.ipynb",
      "provenance": []
    },
    "kernelspec": {
      "display_name": "Python 3 (ipykernel)",
      "language": "python",
      "name": "python3"
    },
    "language_info": {
      "codemirror_mode": {
        "name": "ipython",
        "version": 3
      },
      "file_extension": ".py",
      "mimetype": "text/x-python",
      "name": "python",
      "nbconvert_exporter": "python",
      "pygments_lexer": "ipython3",
      "version": "3.9.9"
    }
  },
  "nbformat": 4,
  "nbformat_minor": 0
}